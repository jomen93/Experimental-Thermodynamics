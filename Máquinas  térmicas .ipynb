{
 "cells": [
  {
   "cell_type": "code",
   "execution_count": 2,
   "metadata": {},
   "outputs": [],
   "source": [
    "import numpy as np \n",
    "import matplotlib.pyplot as plt \n",
    "%matplotlib inline\n",
    "import scipy as sp\n",
    "from scipy import stats\n",
    "\n",
    "def Error_linealizacion(x,y):\n",
    "    yp = np.mean(y)*np.ones(len(y))\n",
    "    ei2 = np.sum((y-yp)**2)\n",
    "    ey = np.sqrt(ei2/(len(y)-2))\n",
    "    xi2 = np.sum(x**2); Xi2 = np.sum(x)**2\n",
    "    db = ey*np.sqrt((len(y))/(len(y)*xi2-Xi2)) #pendiente\n",
    "    da = ey*np.sqrt((xi2)/(len(y)*xi2-Xi2)) #punto de corte\n",
    "    return np.array([da,db])\n",
    "\n"
   ]
  },
  {
   "cell_type": "markdown",
   "metadata": {},
   "source": [
    "# Caracterización de el mechero\n",
    "\n",
    "Para esto se necesita medir $\\frac{dQ}{dt}$ que el mechero entrega al sistema, considerando la ecuación\n",
    "\n"
   ]
  },
  {
   "cell_type": "code",
   "execution_count": 35,
   "metadata": {},
   "outputs": [
    {
     "name": "stdout",
     "output_type": "stream",
     "text": [
      "pendiente 87.69565642034223 Error 0.06648793659152546\n",
      "Punto de corte 16903.95186500709 Error 9.106590326084408\n"
     ]
    },
    {
     "data": {
      "image/png": "[encoded data removed]",
      "text/plain": [
       "<matplotlib.figure.Figure at 0x1a0ee08d10>"
      ]
     },
     "metadata": {},
     "output_type": "display_data"
    }
   ],
   "source": [
    "T = np.array([35.,40.,45.,50.,55.,60.,65.,70.,75.,80.])\n",
    "t = np.array([0.,25.,47.,69.,96.,122.,151.,181.,202.,244.])\n",
    "\n",
    "def Q(T):\n",
    "    magua = 100.; malu = 54.9 # gramos\n",
    "    cagua = 4.182 ; calu = 0.896 # J/(gC)\n",
    "    return (magua*cagua + malu*calu)*T\n",
    "\n",
    "dQ = Q(T)*np.sqrt((0.1/100.)**2+(0.1/54.9)**2)\n",
    "\n",
    "\n",
    "T1Err=dQ; taErr=1 \n",
    "slope, intercept, r_value, p_value, std_err = sp.stats.linregress(t,Q(T))\n",
    "polynomial = np.poly1d([slope, intercept])\n",
    "line = polynomial(t)\n",
    "plt.plot(t, line, 'r-', label =\"Linealizacion $R ={0:.3f}$\".format(r_value)) \n",
    "plt.errorbar(t, Q(T), T1Err, taErr,ecolor = \"b\",fmt='+b',capsize = 2)\n",
    "\n",
    "\n",
    "plt.plot(t,Q(T),\"b.\")\n",
    "plt.grid(True)\n",
    "plt.title(\"Cambio de Temperatura en el tiempo\")\n",
    "plt.xlabel(\"Tiempo [s]\")\n",
    "plt.ylabel(\"Calor [$J$] \")\n",
    "plt.legend()\n",
    "plt.savefig(\"calor.pdf\")\n",
    "\n",
    "print \"pendiente\",slope, \"Error\",Error_linealizacion(t,T)[1]\n",
    "print \"Punto de corte\", intercept, \"Error\",Error_linealizacion(t,T)[0]"
   ]
  },
  {
   "cell_type": "markdown",
   "metadata": {},
   "source": [
    "Ahora se calcula la eficiencia de cada motor, empezando por el motor en el cual se utiliza el mechero, tomamos la eficiencia como \n",
    "\n",
    "$$\\eta = \\frac{|W|}{|Q_{H}|} = \\frac{|Q_{H}|-|Q_{c}|}{|Q_{H}|}=1-\\frac{|Q_{c}|}{|Q_{H}|}$$\n",
    "\n",
    "+ El número total de unidades de calor absorbido por el sistema $|Q_{H}|$\n",
    "+ El número total de unidades de calor cedido por el sistema $|Q_{c}|$\n",
    "+ Numero total de unidades de trabajo realizado por el sistema $|W|$\n",
    "\n",
    "La expresión que se debe calcular en partiular para el sistema está dado por \n",
    "\n",
    "$$\\eta_{Max} = 1- \\frac{T_{c}}{T_{H}}$$"
   ]
  },
  {
   "cell_type": "code",
   "execution_count": 54,
   "metadata": {},
   "outputs": [
    {
     "name": "stdout",
     "output_type": "stream",
     "text": [
      "[0.64031008 0.63678516 0.63271605 0.63230769 0.62923077 0.62461538\n",
      " 0.62307692 0.61904762 0.61597542 0.61349693]\n",
      "24.24     64.94000000000001    0.6267562032410339\n"
     ]
    }
   ],
   "source": [
    "Tfrio = np.array([23.7,24.0,24.3,24.4,24.6,24.9,25.,25.3,25.5,25.7,])-0.5\n",
    "Tcal = np.array([64.5,64.7,64.8,65.,65.,65.,65.,65.1,65.1,65.2,])\n",
    "\n",
    "def emax(Tfrio,Tcal):\n",
    "    return 1-(Tfrio/Tcal)\n",
    "def emaxincertidumbre(Tfrio,Tcaliente):\n",
    "    emax(Tfrio,Tcal)*np.sqrt((0.1/Tfrio)**2 + (0.1/Tcaliente)**2 )\n",
    "\n",
    "print emax(Tfrio,Tcal)\n",
    "\n",
    "print np.mean(Tfrio),\"   \",np.mean(Tcal),\"  \",np.mean(emax(Tfrio,Tcal))"
   ]
  },
  {
   "cell_type": "code",
   "execution_count": 39,
   "metadata": {},
   "outputs": [
    {
     "name": "stdout",
     "output_type": "stream",
     "text": [
      "Eficiencia 0.6267562032410339 Error 0.008522474837472531\n"
     ]
    }
   ],
   "source": [
    "print \"Eficiencia\", np.mean(emax(Tfrio,Tcal)),\"Error\",np.std(emax(Tfrio,Tcal)) "
   ]
  },
  {
   "cell_type": "code",
   "execution_count": 25,
   "metadata": {},
   "outputs": [
    {
     "data": {
      "text/plain": [
       "array([23.2, 23.5, 23.8, 23.9, 24.1, 24.4, 24.5, 24.8, 25. , 25.2])"
      ]
     },
     "execution_count": 25,
     "metadata": {},
     "output_type": "execute_result"
    }
   ],
   "source": [
    "Tfrio"
   ]
  },
  {
   "cell_type": "code",
   "execution_count": 28,
   "metadata": {},
   "outputs": [
    {
     "data": {
      "text/plain": [
       "array([22.7, 23. , 23.3, 23.4, 23.6, 23.9, 24. , 24.3, 24.5, 24.7])"
      ]
     },
     "execution_count": 28,
     "metadata": {},
     "output_type": "execute_result"
    }
   ],
   "source": [
    "Tfrio - 0.5"
   ]
  },
  {
   "cell_type": "code",
   "execution_count": 85,
   "metadata": {},
   "outputs": [
    {
     "data": {
      "text/plain": [
       "64.0"
      ]
     },
     "execution_count": 85,
     "metadata": {},
     "output_type": "execute_result"
    }
   ],
   "source": [
    "(8)**2 / 1."
   ]
  },
  {
   "cell_type": "markdown",
   "metadata": {},
   "source": [
    "# Frigorífico"
   ]
  },
  {
   "cell_type": "code",
   "execution_count": 93,
   "metadata": {},
   "outputs": [],
   "source": [
    "# 8V\n",
    "Tf8 = np.array([28.9,28.9,28.8,28.8,28.8])-0.5\n",
    "Tc8 = np.array([36.,36.1,36.1,36.2,36.2])\n",
    "\n",
    "#9V\n",
    "Tf9 = np.array([28.9,28.8,28.9,29.,29.1])-0.5\n",
    "Tc9 = np.array([36.8,36.8,36.9,37.1,37.2])\n",
    "\n",
    "#10V\n",
    "Tf10 = np.array([29.2,29.3,29.4])-0.5\n",
    "Tc10 = np.array([37.6,37.7,37.6])\n",
    "\n",
    "#11V\n",
    "Tf11 = np.array([29.6,29.7,29.8,29.9,30.9])-0.5\n",
    "Tc11 = np.array([38.3,38.4,38.5,38.6,38.7])\n",
    "\n",
    "#12V\n",
    "Tf12 = np.array([29.9,30.0,30.1])-0.5\n",
    "Tc12 = np.array([38.9,39.1,39.2])\n",
    "\n",
    "\n",
    "def efrigo(Tf,Tc):\n",
    "    return  Tf/(Tc-Tf)"
   ]
  },
  {
   "cell_type": "code",
   "execution_count": 94,
   "metadata": {},
   "outputs": [
    {
     "name": "stdout",
     "output_type": "stream",
     "text": [
      "8V Eficiencia 3.6435831767610574 Error 0.06074682429541624 TA 28.339999999999996 TB 36.11999999999999\n",
      "9V Eficiencia 3.338215099993486 Error 0.023069373217582227 TA 28.439999999999998 TB 36.96\n",
      "10V Eficiencia 3.2608377459210462 Error 0.043377673082935185 TA 28.8 TB 37.63333333333333\n",
      "11V Eficiencia 3.276008381351493 Error 0.1936264424716024 TA 29.48 TB 38.5\n",
      "12V Eficiencia 3.083662280701754 Error 0.00891108556129875 TA 29.5 TB 39.06666666666667\n"
     ]
    }
   ],
   "source": [
    "print \"8V\" ,\"Eficiencia\", np.mean(efrigo(Tf8,Tc8)),\"Error\",np.std(efrigo(Tf8,Tc8)), \"TA\",np.mean(Tf8),\"TB\",np.mean(Tc8)\n",
    "print \"9V\" ,\"Eficiencia\", np.mean(efrigo(Tf9,Tc9)),\"Error\",np.std(efrigo(Tf9,Tc9)), \"TA\",np.mean(Tf9),\"TB\",np.mean(Tc9)\n",
    "print \"10V\" ,\"Eficiencia\", np.mean(efrigo(Tf10,Tc10)),\"Error\",np.std(efrigo(Tf10,Tc10)), \"TA\",np.mean(Tf10),\"TB\",np.mean(Tc10) \n",
    "print \"11V\" ,\"Eficiencia\", np.mean(efrigo(Tf11,Tc11)),\"Error\",np.std(efrigo(Tf11,Tc11)), \"TA\",np.mean(Tf11),\"TB\",np.mean(Tc11)\n",
    "print \"12V\" ,\"Eficiencia\", np.mean(efrigo(Tf12,Tc12)),\"Error\",np.std(efrigo(Tf12,Tc12)), \"TA\",np.mean(Tf12),\"TB\",np.mean(Tc12)"
   ]
  },
  {
   "cell_type": "code",
   "execution_count": 95,
   "metadata": {},
   "outputs": [
    {
     "data": {
      "text/plain": [
       "0.048989794855662516"
      ]
     },
     "execution_count": 95,
     "metadata": {},
     "output_type": "execute_result"
    }
   ],
   "source": [
    "np.std(Tf8)"
   ]
  },
  {
   "cell_type": "code",
   "execution_count": 120,
   "metadata": {},
   "outputs": [
    {
     "data": {
      "text/plain": [
       "3.316"
      ]
     },
     "execution_count": 120,
     "metadata": {},
     "output_type": "execute_result"
    }
   ],
   "source": [
    "(3.64+3.33+3.26+3.27+3.08)/5"
   ]
  },
  {
   "cell_type": "code",
   "execution_count": null,
   "metadata": {},
   "outputs": [],
   "source": []
  },
  {
   "cell_type": "code",
   "execution_count": null,
   "metadata": {},
   "outputs": [],
   "source": []
  },
  {
   "cell_type": "code",
   "execution_count": null,
   "metadata": {},
   "outputs": [],
   "source": []
  },
  {
   "cell_type": "code",
   "execution_count": null,
   "metadata": {},
   "outputs": [],
   "source": []
  }
 ],
 "metadata": {
  "kernelspec": {
   "display_name": "Python 2",
   "language": "python",
   "name": "python2"
  },
  "language_info": {
   "codemirror_mode": {
    "name": "ipython",
    "version": 2
   },
   "file_extension": ".py",
   "mimetype": "text/x-python",
   "name": "python",
   "nbconvert_exporter": "python",
   "pygments_lexer": "ipython2",
   "version": "2.7.14"
  }
 },
 "nbformat": 4,
 "nbformat_minor": 2
}
