{
 "cells": [
  {
   "cell_type": "markdown",
   "metadata": {},
   "source": [
    "# Paquetes necesarios"
   ]
  },
  {
   "cell_type": "code",
   "execution_count": 1,
   "metadata": {},
   "outputs": [],
   "source": [
    "#!/usr/bin/env python\n",
    "# -*- coding: utf-8 -*-\n",
    "\n",
    "import numpy as np\n",
    "import matplotlib.pyplot as plt\n",
    "import scipy as sp\n",
    "from scipy import stats\n",
    "%matplotlib inline\n",
    "\n",
    "def Error_linealizacion(x,y):\n",
    "    yp = np.mean(y)*np.ones(len(y))\n",
    "    ei2 = np.sum((y-yp)**2)\n",
    "    ey = np.sqrt(ei2/(len(y)-2))\n",
    "    xi2 = np.sum(x**2); Xi2 = np.sum(x)**2\n",
    "    db = ey*np.sqrt((len(y))/(len(y)*xi2-Xi2)) #pendiente\n",
    "    da = ey*np.sqrt((xi2)/(len(y)*xi2-Xi2)) #punto de corte\n",
    "    return np.array([da,db])"
   ]
  },
  {
   "cell_type": "markdown",
   "metadata": {},
   "source": [
    "# Datos obtenidos en el laboratorio\n",
    "\n",
    "En primer lugar se debe calibrar cuanto hielo se derrite a temperatura ambiente para poder obtener datos precisos para cada lámina del material, los datos obtenidos fue que se derritió $58.9g$ en $16:40$ minutos, en donde el peso del vaso fue de $49.3g$. El diametro del hielo para esta calibracion es $d = 66.2$ mm\n",
    "\n",
    "la ecuación a resolver será\n",
    "\n",
    "$$\\frac{\\Delta Q}{\\Delta t} = \\kappa \\frac{A}{L}\\Delta T$$\n",
    "\n",
    "Considerando el cambio de energía con el calor latente \n",
    "\n",
    "$$\\frac{\\Delta Q}{\\Delta t} = L\\frac{\\Delta m}{\\Delta t}$$\n",
    "\n",
    "Las tasas de derretiemiendo a temperaturas está dada por \n",
    "\n",
    "$$R_{a} = \\frac{\\Delta m_{amb}}{\\Delta t_{amb}} \\quad \\text{Tasa derretimiento temperatura ambiente}$$\n",
    "$$R = \\frac{\\Delta m}{\\Delta t} \\quad \\text{Tasa derretimiento para cada material}$$\n",
    "\n",
    "Definamos $R_{o} = R-R_{a}$ \n",
    "\n",
    "Luego la constante para cada material está dada por \n",
    "\n",
    "$$\\kappa = \\frac{L(R-R_{a})h}{A\\Delta T}$$\n",
    "\n",
    "$$L = 334 \\frac{J}{g}$$"
   ]
  },
  {
   "cell_type": "code",
   "execution_count": 220,
   "metadata": {},
   "outputs": [
    {
     "name": "stdout",
     "output_type": "stream",
     "text": [
      "Yeso 0.697320678212654 LISTO\n",
      "Triplex 0.10670443238223133 LISTO\n",
      "Vidrio 0.7785811763454905 LISTO\n",
      "Baquelita 0.20002059210720236\n",
      "Plexiglass 0.1180511737731459 LISTO\n",
      "\n",
      "\n",
      "\n",
      "\n",
      "\n"
     ]
    }
   ],
   "source": [
    "ry = 59.2/2 ; rt = 58.7/2; rv = 65.2/2; rb = 59.9/2; rp = 55.9/2 # Radios para cada material en mm \n",
    "ty = 384. ; tt = 357.; tv = 155.; tb = 208.; tp = 316. # Tiempo medido en segundos\n",
    "hy = 8.9; ht = 6.08; hv = 4.7; hb = 6.2; hp = 5.16# mm\n",
    "my = 91.53; mt = 18.74; mv = 94.75; mb = 20.9; mp = 19.61 # g\n",
    "L = 334 # Calor latente  kJ/Kg\n",
    "DT = 369.15 # Kelvin\n",
    "\n",
    "\n",
    "#mo = np.array([3.1,0.0096,15.9,0,7.8]) #mm. lo que se derrite en temperatura ambiente (Valor que puede variar) \n",
    "r = np.array([ry,rt,rv,rb,rp])*1e-3\n",
    "#mo = 9.6/1000.*np.ones(len(r))\n",
    "Dt = np.array([ty,tt,tv,tb,tp]) \n",
    "h = np.array([hy,ht,hv,hb,hp])*1e-3\n",
    "Dm = np.array([my,mt,mv,mb,mp])\n",
    "Ra = 9.6/1000.*np.ones(len(r))\n",
    "\n",
    "def R(Dm,Dt):\n",
    "    return Dm/Dt\n",
    "#Ra= np.array([0.1,0.052,0.1,0,0.059])\n",
    "\n",
    "def A(r):\n",
    "    return np.pi*(r**2)\n",
    "\n",
    "def k(Dt,Dm,h,r):\n",
    "    \n",
    "    return h*L*(R(Dm,Dt))/(A(r)*DT)\n",
    "\n",
    "print \"Yeso\",k(Dt,Dm,h,r)[0],\"LISTO\"\n",
    "print \"Triplex\",k(Dt,Dm,h,r)[1],\"LISTO\"\n",
    "print \"Vidrio\",k(Dt,Dm,h,r)[2],\"LISTO\"\n",
    "print \"Baquelita\",k(Dt,Dm,h,r)[3]\n",
    "print \"Plexiglass\",k(Dt,Dm,h,r)[4],\"LISTO\"\n",
    "print \"\"\n",
    "print \"\"\n",
    "print \"\"\n",
    "print \"\"\n",
    "print \"\"\n",
    "\n"
   ]
  },
  {
   "cell_type": "code",
   "execution_count": 221,
   "metadata": {},
   "outputs": [
    {
     "data": {
      "text/plain": [
       "array([0.00275254, 0.00270624, 0.00333876, 0.00281802, 0.00245422])"
      ]
     },
     "execution_count": 221,
     "metadata": {},
     "output_type": "execute_result"
    }
   ],
   "source": [
    "A(r)"
   ]
  },
  {
   "cell_type": "code",
   "execution_count": 211,
   "metadata": {},
   "outputs": [
    {
     "data": {
      "text/plain": [
       "array([0.23835938, 0.052493  , 0.61129032, 0.10048077, 0.05978659])"
      ]
     },
     "execution_count": 211,
     "metadata": {},
     "output_type": "execute_result"
    }
   ],
   "source": [
    "R(Dm,Dt)"
   ]
  },
  {
   "cell_type": "code",
   "execution_count": 212,
   "metadata": {},
   "outputs": [
    {
     "data": {
      "text/plain": [
       "array([0.096, 0.096, 0.096, 0.096, 0.096])"
      ]
     },
     "execution_count": 212,
     "metadata": {},
     "output_type": "execute_result"
    }
   ],
   "source": [
    "Ra"
   ]
  },
  {
   "cell_type": "code",
   "execution_count": 227,
   "metadata": {},
   "outputs": [
    {
     "data": {
      "text/plain": [
       "array([384., 357., 155., 208., 316.])"
      ]
     },
     "execution_count": 227,
     "metadata": {},
     "output_type": "execute_result"
    }
   ],
   "source": [
    "Dt"
   ]
  },
  {
   "cell_type": "code",
   "execution_count": 228,
   "metadata": {},
   "outputs": [
    {
     "data": {
      "text/plain": [
       "array([91.53, 18.74, 94.75, 20.9 , 19.61])"
      ]
     },
     "execution_count": 228,
     "metadata": {},
     "output_type": "execute_result"
    }
   ],
   "source": [
    "Dm"
   ]
  },
  {
   "cell_type": "code",
   "execution_count": 226,
   "metadata": {},
   "outputs": [
    {
     "data": {
      "text/plain": [
       "array([91.53, 18.74, 94.75, 20.9 , 19.61])"
      ]
     },
     "execution_count": 226,
     "metadata": {},
     "output_type": "execute_result"
    }
   ],
   "source": [
    "DM = 0.05\n",
    "R(Dm,Dt)*np.sqrt((DM/Dm)**2+(Dt**2))"
   ]
  },
  {
   "cell_type": "code",
   "execution_count": null,
   "metadata": {},
   "outputs": [],
   "source": []
  }
 ],
 "metadata": {
  "kernelspec": {
   "display_name": "Python 2",
   "language": "python",
   "name": "python2"
  },
  "language_info": {
   "codemirror_mode": {
    "name": "ipython",
    "version": 2
   },
   "file_extension": ".py",
   "mimetype": "text/x-python",
   "name": "python",
   "nbconvert_exporter": "python",
   "pygments_lexer": "ipython2",
   "version": "2.7.14"
  }
 },
 "nbformat": 4,
 "nbformat_minor": 2
}
